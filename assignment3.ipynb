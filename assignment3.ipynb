{
  "cells": [
    {
      "cell_type": "markdown",
      "id": "245217cc",
      "metadata": {
        "id": "245217cc"
      },
      "source": [
        "# Assignment: SVD Preprocessing on MNIST with Logistic Regression"
      ]
    },
    {
      "cell_type": "markdown",
      "id": "deffa444",
      "metadata": {
        "id": "deffa444"
      },
      "source": [
        "## Instructions:\n",
        "In this assignment, you will apply **Singular Value Decomposition (SVD)** as a preprocessing step to the **MNIST dataset** and train a **logistic regression classifier**. You will compare the model performance and training time when using different levels of SVD for dimensionality reduction.\n",
        "\n",
        "In this assignment, you will need to:\n",
        "1. Load the MNIST dataset and normalize it.\n",
        "2. Perform SVD and reduce the dimensions of the data.\n",
        "3. Train a logistic regression model on the original and SVD-reduced data.\n",
        "4. Measure and compare the training time and accuracy of the model with varying SVD components.\n",
        "5. Plot the results and analyze how SVD impacts the performance and efficiency of the model.\n",
        "\n",
        "***\n",
        "Your tasks include:\n",
        "1. Implement SVD algorithm. You are not allowed to directly use SVD implemented by other packages, but you may use functions in NumPy. (Part 2)\n",
        "2. Explore the accuracy and time performance from different numbers of SVD components. (Part 4)\n",
        "3. Visualize the accuracy, time performance and top 5 singular vectors in the dataset, analyze and explain which number of SVD component looks best to you? (Part 4,5&6) Hint: singular vectors should be reshaped to 28x28 images for visualization.\n",
        "***\n",
        "**Note that you may not import any other function or package.** Let's get started!\n"
      ]
    },
    {
      "cell_type": "markdown",
      "id": "b3e10cb3",
      "metadata": {
        "id": "b3e10cb3"
      },
      "source": [
        "## Part 1: Load the MNIST dataset and preprocess the data"
      ]
    },
    {
      "cell_type": "code",
      "execution_count": 1,
      "id": "79f2d907",
      "metadata": {
        "colab": {
          "base_uri": "https://localhost:8080/"
        },
        "id": "79f2d907",
        "outputId": "3108604e-9ef7-47b6-d8cf-c6b655cc160d"
      },
      "outputs": [
        {
          "output_type": "stream",
          "name": "stdout",
          "text": [
            "Loading MNIST dataset...\n"
          ]
        }
      ],
      "source": [
        "import numpy as np\n",
        "import matplotlib.pyplot as plt\n",
        "import time\n",
        "from sklearn.linear_model import LogisticRegression\n",
        "from sklearn.model_selection import train_test_split\n",
        "from sklearn.datasets import fetch_openml\n",
        "from sklearn.metrics import accuracy_score, classification_report\n",
        "\n",
        "# Load MNIST dataset\n",
        "print(\"Loading MNIST dataset...\")\n",
        "mnist = fetch_openml('mnist_784', version=1) #fetching the dataset\n",
        "X = mnist.data\n",
        "y = mnist.target\n",
        "\n",
        "# Normalize the data\n",
        "X = X / 255.0\n",
        "\n",
        "# Split into training and test sets\n",
        "X_train, X_test, y_train, y_test = train_test_split(X, y, test_size=0.2, random_state=42)\n"
      ]
    },
    {
      "cell_type": "markdown",
      "id": "28b8572d",
      "metadata": {
        "id": "28b8572d"
      },
      "source": [
        "## Part 2: Implement SVD for Dimensionality Reduction"
      ]
    },
    {
      "cell_type": "code",
      "execution_count": 17,
      "id": "b3bd59f3",
      "metadata": {
        "id": "b3bd59f3"
      },
      "outputs": [],
      "source": [
        "import numpy as np\n",
        "def apply_svd_custom(X_train, X_test, n_components):\n",
        "    \"\"\"\n",
        "    Apply Singular Value Decomposition (SVD) on the training data and reduce its dimensionality.\n",
        "    Then apply the same transformation to the test data.\n",
        "\n",
        "    Parameters:\n",
        "    X_train (numpy array): Training data of shape (n_samples, n_features)\n",
        "    X_test (numpy array): Test data of shape (n_samples, n_features)\n",
        "    n_components (int): Number of components to keep\n",
        "\n",
        "    Returns:\n",
        "    X_train_reduced (numpy array): Reduced training data of shape (n_samples, n_components)\n",
        "    X_test_reduced (numpy array): Reduced test data of shape (n_samples, n_components)\n",
        "    \"\"\"\n",
        "\n",
        "    # Step 1: Compute A^T A\n",
        "    A = X_train\n",
        "    ATA = np.dot(A.T, A)  # Compute A^T A, shape (n, n)\n",
        "\n",
        "    # Step 2: Compute the eigenvalues and eigenvectors of A^T A\n",
        "    eigvals, V = np.linalg.eig(ATA)  # V contains eigenvectors (right singular vectors)\n",
        "\n",
        "    # Step 3: Sort eigenvectors by eigenvalue magnitude (largest first)\n",
        "    sorted_indices = np.argsort(eigvals)[::-1]  # Indices to sort by descending eigenvalue\n",
        "    eigvals = eigvals[sorted_indices]\n",
        "    V = V[:, sorted_indices]\n",
        "\n",
        "    # Step 4: Compute the singular values (square roots of the eigenvalues)\n",
        "    S = np.sqrt(np.abs(eigvals))\n",
        "\n",
        "    # Step 5: Limit the number of components if n_components is specified\n",
        "    if n_components is not None:\n",
        "        S = S[:n_components]\n",
        "        V = V[:, :n_components]\n",
        "\n",
        "    # Step 6: Compute U = A V S^(-1)\n",
        "    # Sigma_inv = np.diag(1 / (S + 1e-10))  # Inverse of singular values (for computing U), adding small epsilon to avoid division by zero\n",
        "    # U = np.dot(A, np.dot(V, Sigma_inv))  # Compute U (left singular vectors)\n",
        "\n",
        "    # Step 6: Compute U = A V / S\n",
        "    U = np.dot(A, V)\n",
        "    U = U / (S+ 1e-10)  # Normalize U by singular values\n",
        "\n",
        "    # Step 7: Project the test data into the same reduced space\n",
        "    X_train_reduced = np.real(np.dot(U, np.diag(S)))  # Reduced training data\n",
        "    X_test_reduced = np.real(np.dot(X_test, V))  # Reduced test data using the right singular vectors\n",
        "\n",
        "    return X_train_reduced, X_test_reduced, V"
      ]
    },
    {
      "cell_type": "markdown",
      "id": "eb2a7a9d",
      "metadata": {
        "id": "eb2a7a9d"
      },
      "source": [
        "## Part 3: Train Logistic Regression and Measure Performance"
      ]
    },
    {
      "cell_type": "code",
      "execution_count": 4,
      "id": "dbfc0b10",
      "metadata": {
        "id": "dbfc0b10"
      },
      "outputs": [],
      "source": [
        "# Function to train logistic regression and track training time\n",
        "def train_logistic_regression(X_train, y_train, X_test, y_test):\n",
        "    model = LogisticRegression(max_iter=1000, solver='saga', random_state=42, multi_class='multinomial')\n",
        "\n",
        "    # Measure training time\n",
        "    start_time = time.time()\n",
        "    model.fit(X_train, y_train)\n",
        "    training_time = time.time() - start_time\n",
        "\n",
        "    y_pred = model.predict(X_test)\n",
        "    accuracy = accuracy_score(y_test, y_pred)\n",
        "\n",
        "    return accuracy, training_time\n"
      ]
    },
    {
      "cell_type": "markdown",
      "id": "2e557a05",
      "metadata": {
        "id": "2e557a05"
      },
      "source": [
        "## Part 4: Experiment with Different Levels of SVD\n",
        "\n",
        "Now, apply SVD with varying numbers of components and observe how the dimensionality reduction impacts the model's performance. Record both the accuracy and training time for each number of components.\n"
      ]
    },
    {
      "cell_type": "code",
      "execution_count": 18,
      "id": "3a460725",
      "metadata": {
        "colab": {
          "base_uri": "https://localhost:8080/"
        },
        "id": "3a460725",
        "outputId": "335d3e6b-3c22-4f73-aa95-d28f26dd15bf"
      },
      "outputs": [
        {
          "output_type": "stream",
          "name": "stdout",
          "text": [
            "Training models with different levels of SVD preprocessing...\n",
            "Applying custom SVD with 784 components...\n"
          ]
        },
        {
          "output_type": "stream",
          "name": "stderr",
          "text": [
            "/usr/local/lib/python3.10/dist-packages/sklearn/linear_model/_logistic.py:1247: FutureWarning: 'multi_class' was deprecated in version 1.5 and will be removed in 1.7. From then on, it will always use 'multinomial'. Leave it to its default value to avoid this warning.\n",
            "  warnings.warn(\n"
          ]
        },
        {
          "output_type": "stream",
          "name": "stdout",
          "text": [
            "SVD components: 784, Accuracy: 0.9209, Training time: 819.7935 seconds\n",
            "Applying custom SVD with 300 components...\n"
          ]
        },
        {
          "output_type": "stream",
          "name": "stderr",
          "text": [
            "/usr/local/lib/python3.10/dist-packages/sklearn/linear_model/_logistic.py:1247: FutureWarning: 'multi_class' was deprecated in version 1.5 and will be removed in 1.7. From then on, it will always use 'multinomial'. Leave it to its default value to avoid this warning.\n",
            "  warnings.warn(\n"
          ]
        },
        {
          "output_type": "stream",
          "name": "stdout",
          "text": [
            "SVD components: 300, Accuracy: 0.9205, Training time: 217.5556 seconds\n",
            "Applying custom SVD with 100 components...\n"
          ]
        },
        {
          "output_type": "stream",
          "name": "stderr",
          "text": [
            "/usr/local/lib/python3.10/dist-packages/sklearn/linear_model/_logistic.py:1247: FutureWarning: 'multi_class' was deprecated in version 1.5 and will be removed in 1.7. From then on, it will always use 'multinomial'. Leave it to its default value to avoid this warning.\n",
            "  warnings.warn(\n"
          ]
        },
        {
          "output_type": "stream",
          "name": "stdout",
          "text": [
            "SVD components: 100, Accuracy: 0.9181, Training time: 50.7114 seconds\n",
            "Applying custom SVD with 50 components...\n"
          ]
        },
        {
          "output_type": "stream",
          "name": "stderr",
          "text": [
            "/usr/local/lib/python3.10/dist-packages/sklearn/linear_model/_logistic.py:1247: FutureWarning: 'multi_class' was deprecated in version 1.5 and will be removed in 1.7. From then on, it will always use 'multinomial'. Leave it to its default value to avoid this warning.\n",
            "  warnings.warn(\n"
          ]
        },
        {
          "output_type": "stream",
          "name": "stdout",
          "text": [
            "SVD components: 50, Accuracy: 0.9085, Training time: 14.0647 seconds\n",
            "Applying custom SVD with 25 components...\n"
          ]
        },
        {
          "output_type": "stream",
          "name": "stderr",
          "text": [
            "/usr/local/lib/python3.10/dist-packages/sklearn/linear_model/_logistic.py:1247: FutureWarning: 'multi_class' was deprecated in version 1.5 and will be removed in 1.7. From then on, it will always use 'multinomial'. Leave it to its default value to avoid this warning.\n",
            "  warnings.warn(\n"
          ]
        },
        {
          "output_type": "stream",
          "name": "stdout",
          "text": [
            "SVD components: 25, Accuracy: 0.8854, Training time: 2.8578 seconds\n",
            "Applying custom SVD with 5 components...\n"
          ]
        },
        {
          "output_type": "stream",
          "name": "stderr",
          "text": [
            "/usr/local/lib/python3.10/dist-packages/sklearn/linear_model/_logistic.py:1247: FutureWarning: 'multi_class' was deprecated in version 1.5 and will be removed in 1.7. From then on, it will always use 'multinomial'. Leave it to its default value to avoid this warning.\n",
            "  warnings.warn(\n"
          ]
        },
        {
          "output_type": "stream",
          "name": "stdout",
          "text": [
            "SVD components: 5, Accuracy: 0.6659, Training time: 0.7639 seconds\n"
          ]
        }
      ],
      "source": [
        "svd_components = [784, 300, 100, 50, 25, 5]  # You need to decide what number to search...\n",
        "\n",
        "# Store the results\n",
        "results = []\n",
        "\n",
        "# Capture the singular vectors V for visualization\n",
        "V_for_visualization = None  # Initialize variable to store V\n",
        "\n",
        "print(\"Training models with different levels of SVD preprocessing...\")\n",
        "for n_components in svd_components:\n",
        "    print(f\"Applying custom SVD with {n_components} components...\")\n",
        "\n",
        "    # Apply SVD to the training and test sets\n",
        "    # Call apply_svd_custom() here...\n",
        "\n",
        "    X_train_svd, X_test_svd, V = apply_svd_custom(X_train, X_test, n_components)\n",
        "\n",
        "    # Store V for visualization when n_components is large enough to get meaningful singular vectors\n",
        "    if n_components >= 5:\n",
        "        V_for_visualization = V\n",
        "\n",
        "    # Train the logistic regression model and get accuracy and training time\n",
        "    accuracy, training_time = train_logistic_regression(X_train_svd, y_train, X_test_svd, y_test)\n",
        "\n",
        "    # Store the results in a dictionary\n",
        "    results.append({\n",
        "        'n_components': n_components,\n",
        "        'accuracy': accuracy,\n",
        "        'training_time': training_time\n",
        "    })\n",
        "    print(f\"SVD components: {n_components}, Accuracy: {accuracy:.4f}, Training time: {training_time:.4f} seconds\")"
      ]
    },
    {
      "cell_type": "markdown",
      "id": "ea7aca12",
      "metadata": {
        "id": "ea7aca12"
      },
      "source": [
        "## Part 5: Visualize and Analyze the Results\n",
        "\n",
        "Finally, plot the accuracy, training time as a function of the number of SVD components, and top 5 singular vectors. This will help you understand the trade-off between dimensionality reduction, accuracy, and model training time, and how SVD generally works. Hint: singular vectors should be reshaped to 28x28 images for visualization.\n"
      ]
    },
    {
      "cell_type": "code",
      "execution_count": 20,
      "id": "92ef0497",
      "metadata": {
        "colab": {
          "base_uri": "https://localhost:8080/",
          "height": 543
        },
        "id": "92ef0497",
        "outputId": "05289cfc-7968-42c6-c2b6-fbb1b3232148"
      },
      "outputs": [
        {
          "output_type": "stream",
          "name": "stdout",
          "text": [
            "Visualizing top 5 singular vectors...\n"
          ]
        },
        {
          "output_type": "display_data",
          "data": {
            "text/plain": [
              "<Figure size 1000x500 with 5 Axes>"
            ],
            "image/png": "[encoded data removed]"
          },
          "metadata": {}
        },
        {
          "output_type": "display_data",
          "data": {
            "text/plain": [
              "<Figure size 1000x500 with 2 Axes>"
            ],
            "image/png": "[encoded data removed]"
          },
          "metadata": {}
        }
      ],
      "source": [
        "## Your implementation here...\n",
        "## You may add necessary lines in Part 4 to access data for visualization\n",
        "def visualize_top_singular_vectors(V, n_vectors=5):\n",
        "    \"\"\"\n",
        "    Visualize the top n singular vectors by reshaping them into 28x28 images.\n",
        "\n",
        "    Parameters:\n",
        "    V (numpy array): The right singular vectors (V matrix from SVD).\n",
        "    n_vectors (int): Number of singular vectors to visualize.\n",
        "    \"\"\"\n",
        "    plt.figure(figsize=(10, 5))\n",
        "\n",
        "    for i in range(n_vectors):\n",
        "        # Reshape the ith singular vector (length 784) into a 28x28 image\n",
        "        singular_vector_image = V[:, i].reshape(28, 28)\n",
        "        singular_vector_image = np.abs(singular_vector_image)\n",
        "\n",
        "        # Plot the singular vector as an image\n",
        "        plt.subplot(1, n_vectors, i + 1)\n",
        "        plt.imshow(singular_vector_image, cmap='gray')\n",
        "        plt.title(f\"Singular Vector {i+1}\")\n",
        "        plt.axis('off')\n",
        "\n",
        "    plt.tight_layout()\n",
        "    plt.show()\n",
        "\n",
        "# Example: V is the right singular vectors matrix from SVD (shape: 784 x 784)\n",
        "# Call the function to visualize the top 5 singular vectors\n",
        "if V_for_visualization is not None:\n",
        "    print(\"Visualizing top 5 singular vectors...\")\n",
        "    visualize_top_singular_vectors(V_for_visualization, n_vectors=5)\n",
        "\n",
        "def plot_accuracy_and_time(results):\n",
        "  # Extract components, accuracies, and training times from the results\n",
        "  components = [result['n_components'] for result in results]\n",
        "  accuracies = [result['accuracy'] for result in results]\n",
        "  times = [result['training_time'] for result in results]\n",
        "\n",
        "  # Plot accuracy vs. number of components\n",
        "  plt.figure(figsize=(10,5))\n",
        "\n",
        "  plt.subplot(1, 2, 1)\n",
        "  plt.plot(components, accuracies, marker='o', label='Accuracy')\n",
        "  plt.xlabel('Number of SVD Components')\n",
        "  plt.ylabel('Accuracy')\n",
        "  plt.title('Accuracy vs. Number of Components')\n",
        "  plt.grid(True)\n",
        "\n",
        "  # Plot training time vs. number of components\n",
        "  plt.subplot(1, 2, 2)\n",
        "  plt.plot(components, times, marker='o', label='Training Time', color='red')\n",
        "  plt.xlabel('Number of SVD Components')\n",
        "  plt.ylabel('Training Time (seconds)')\n",
        "  plt.title('Training Time vs. Number of Components')\n",
        "  plt.grid(True)\n",
        "\n",
        "  plt.tight_layout()\n",
        "  plt.show()\n",
        "\n",
        "plot_accuracy_and_time(results)"
      ]
    },
    {
      "cell_type": "markdown",
      "id": "4210569a",
      "metadata": {
        "id": "4210569a"
      },
      "source": [
        "## Part 6: Analyze / Conclusion\n",
        "\n",
        "YOUR ANSWER:"
      ]
    },
    {
      "cell_type": "markdown",
      "source": [
        "We can observe that with increased number of components, the model performance improves at the cost of training efficiency due to the need for extra computational resources. Then to determine the optimal number of SVD components to use, we can see that based on the numerical results given by Part 4 as well as the graphic visualization from Part 5 that a SVD component value between 100-300 seems to optimize accuracy and time effeciancy. As shown by the two regression curves from Part 5, any value after 300 components does not appear to increase the accuracy by any substantial amount, yet will take a nearly exponential increase in training time. For instance, it seems that the accuracy with 300 SVD components is practically equivalent to the accuracy with 784 components, yet the training time nearly triples. Between 100 and 300 components, the accuracy is maximized to above 90% with one-third or less of required training time that is required with 784 components. Below 100 components, however, we start seeing a compromise in accuracy as the value starts to decrease exponentially. Therefore, to obtain maximal accuracy with minimal training time during dimensionality reduction with SVD, choosing between 100-300 SVD components would result in the best compromise."
      ],
      "metadata": {
        "id": "QwbwWpLtgyLo"
      },
      "id": "QwbwWpLtgyLo"
    }
  ],
  "metadata": {
    "kernelspec": {
      "display_name": "Python 3",
      "language": "python",
      "name": "python3"
    },
    "language_info": {
      "codemirror_mode": {
        "name": "ipython",
        "version": 3
      },
      "file_extension": ".py",
      "mimetype": "text/x-python",
      "name": "python",
      "nbconvert_exporter": "python",
      "pygments_lexer": "ipython3",
      "version": "3.8.9"
    },
    "colab": {
      "provenance": []
    }
  },
  "nbformat": 4,
  "nbformat_minor": 5
}